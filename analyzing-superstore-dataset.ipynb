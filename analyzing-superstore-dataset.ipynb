{
 "cells": [
  {
   "cell_type": "code",
   "execution_count": 1,
   "id": "a76b74f4",
   "metadata": {
    "_cell_guid": "b1076dfc-b9ad-4769-8c92-a6c4dae69d19",
    "_uuid": "8f2839f25d086af736a60e9eeb907d3b93b6e0e5",
    "execution": {
     "iopub.execute_input": "2023-12-24T08:42:55.286215Z",
     "iopub.status.busy": "2023-12-24T08:42:55.285330Z",
     "iopub.status.idle": "2023-12-24T08:42:57.791039Z",
     "shell.execute_reply": "2023-12-24T08:42:57.789758Z"
    },
    "papermill": {
     "duration": 2.519956,
     "end_time": "2023-12-24T08:42:57.793733",
     "exception": false,
     "start_time": "2023-12-24T08:42:55.273777",
     "status": "completed"
    },
    "tags": []
   },
   "outputs": [
    {
     "name": "stdout",
     "output_type": "stream",
     "text": [
      "/kaggle/input/sample-supermarket-dataset/SampleSuperstore.csv\n"
     ]
    }
   ],
   "source": [
    "# basic libraries\n",
    "import numpy as np \n",
    "import pandas as pd \n",
    "# visualization libraries\n",
    "import matplotlib.pyplot as plt\n",
    "%matplotlib inline\n",
    "import seaborn as sns\n",
    "\n",
    "# Input data files are available in the read-only \"../input/\" directory\n",
    "# For example, running this (by clicking run or pressing Shift+Enter) will list all files under the input directory\n",
    "\n",
    "import os\n",
    "for dirname, _, filenames in os.walk('/kaggle/input'):\n",
    "    for filename in filenames:\n",
    "        print(os.path.join(dirname, filename))\n",
    "\n",
    "# You can write up to 20GB to the current directory (/kaggle/working/) that gets preserved as output when you create a version using \"Save & Run All\" \n",
    "# You can also write temporary files to /kaggle/temp/, but they won't be saved outside of the current session"
   ]
  },
  {
   "cell_type": "code",
   "execution_count": 2,
   "id": "5c98c8dd",
   "metadata": {
    "execution": {
     "iopub.execute_input": "2023-12-24T08:42:57.813242Z",
     "iopub.status.busy": "2023-12-24T08:42:57.812657Z",
     "iopub.status.idle": "2023-12-24T08:42:57.894824Z",
     "shell.execute_reply": "2023-12-24T08:42:57.893632Z"
    },
    "papermill": {
     "duration": 0.095053,
     "end_time": "2023-12-24T08:42:57.897650",
     "exception": false,
     "start_time": "2023-12-24T08:42:57.802597",
     "status": "completed"
    },
    "tags": []
   },
   "outputs": [
    {
     "data": {
      "text/html": [
       "<div>\n",
       "<style scoped>\n",
       "    .dataframe tbody tr th:only-of-type {\n",
       "        vertical-align: middle;\n",
       "    }\n",
       "\n",
       "    .dataframe tbody tr th {\n",
       "        vertical-align: top;\n",
       "    }\n",
       "\n",
       "    .dataframe thead th {\n",
       "        text-align: right;\n",
       "    }\n",
       "</style>\n",
       "<table border=\"1\" class=\"dataframe\">\n",
       "  <thead>\n",
       "    <tr style=\"text-align: right;\">\n",
       "      <th></th>\n",
       "      <th>Ship Mode</th>\n",
       "      <th>Segment</th>\n",
       "      <th>Country</th>\n",
       "      <th>City</th>\n",
       "      <th>State</th>\n",
       "      <th>Postal Code</th>\n",
       "      <th>Region</th>\n",
       "      <th>Category</th>\n",
       "      <th>Sub-Category</th>\n",
       "      <th>Sales</th>\n",
       "      <th>Quantity</th>\n",
       "      <th>Discount</th>\n",
       "      <th>Profit</th>\n",
       "    </tr>\n",
       "  </thead>\n",
       "  <tbody>\n",
       "    <tr>\n",
       "      <th>0</th>\n",
       "      <td>Second Class</td>\n",
       "      <td>Consumer</td>\n",
       "      <td>United States</td>\n",
       "      <td>Henderson</td>\n",
       "      <td>Kentucky</td>\n",
       "      <td>42420</td>\n",
       "      <td>South</td>\n",
       "      <td>Furniture</td>\n",
       "      <td>Bookcases</td>\n",
       "      <td>261.9600</td>\n",
       "      <td>2</td>\n",
       "      <td>0.00</td>\n",
       "      <td>41.9136</td>\n",
       "    </tr>\n",
       "    <tr>\n",
       "      <th>1</th>\n",
       "      <td>Second Class</td>\n",
       "      <td>Consumer</td>\n",
       "      <td>United States</td>\n",
       "      <td>Henderson</td>\n",
       "      <td>Kentucky</td>\n",
       "      <td>42420</td>\n",
       "      <td>South</td>\n",
       "      <td>Furniture</td>\n",
       "      <td>Chairs</td>\n",
       "      <td>731.9400</td>\n",
       "      <td>3</td>\n",
       "      <td>0.00</td>\n",
       "      <td>219.5820</td>\n",
       "    </tr>\n",
       "    <tr>\n",
       "      <th>2</th>\n",
       "      <td>Second Class</td>\n",
       "      <td>Corporate</td>\n",
       "      <td>United States</td>\n",
       "      <td>Los Angeles</td>\n",
       "      <td>California</td>\n",
       "      <td>90036</td>\n",
       "      <td>West</td>\n",
       "      <td>Office Supplies</td>\n",
       "      <td>Labels</td>\n",
       "      <td>14.6200</td>\n",
       "      <td>2</td>\n",
       "      <td>0.00</td>\n",
       "      <td>6.8714</td>\n",
       "    </tr>\n",
       "    <tr>\n",
       "      <th>3</th>\n",
       "      <td>Standard Class</td>\n",
       "      <td>Consumer</td>\n",
       "      <td>United States</td>\n",
       "      <td>Fort Lauderdale</td>\n",
       "      <td>Florida</td>\n",
       "      <td>33311</td>\n",
       "      <td>South</td>\n",
       "      <td>Furniture</td>\n",
       "      <td>Tables</td>\n",
       "      <td>957.5775</td>\n",
       "      <td>5</td>\n",
       "      <td>0.45</td>\n",
       "      <td>-383.0310</td>\n",
       "    </tr>\n",
       "    <tr>\n",
       "      <th>4</th>\n",
       "      <td>Standard Class</td>\n",
       "      <td>Consumer</td>\n",
       "      <td>United States</td>\n",
       "      <td>Fort Lauderdale</td>\n",
       "      <td>Florida</td>\n",
       "      <td>33311</td>\n",
       "      <td>South</td>\n",
       "      <td>Office Supplies</td>\n",
       "      <td>Storage</td>\n",
       "      <td>22.3680</td>\n",
       "      <td>2</td>\n",
       "      <td>0.20</td>\n",
       "      <td>2.5164</td>\n",
       "    </tr>\n",
       "  </tbody>\n",
       "</table>\n",
       "</div>"
      ],
      "text/plain": [
       "        Ship Mode    Segment        Country             City       State  \\\n",
       "0    Second Class   Consumer  United States        Henderson    Kentucky   \n",
       "1    Second Class   Consumer  United States        Henderson    Kentucky   \n",
       "2    Second Class  Corporate  United States      Los Angeles  California   \n",
       "3  Standard Class   Consumer  United States  Fort Lauderdale     Florida   \n",
       "4  Standard Class   Consumer  United States  Fort Lauderdale     Florida   \n",
       "\n",
       "   Postal Code Region         Category Sub-Category     Sales  Quantity  \\\n",
       "0        42420  South        Furniture    Bookcases  261.9600         2   \n",
       "1        42420  South        Furniture       Chairs  731.9400         3   \n",
       "2        90036   West  Office Supplies       Labels   14.6200         2   \n",
       "3        33311  South        Furniture       Tables  957.5775         5   \n",
       "4        33311  South  Office Supplies      Storage   22.3680         2   \n",
       "\n",
       "   Discount    Profit  \n",
       "0      0.00   41.9136  \n",
       "1      0.00  219.5820  \n",
       "2      0.00    6.8714  \n",
       "3      0.45 -383.0310  \n",
       "4      0.20    2.5164  "
      ]
     },
     "execution_count": 2,
     "metadata": {},
     "output_type": "execute_result"
    }
   ],
   "source": [
    "df = pd.read_csv(\"/kaggle/input/sample-supermarket-dataset/SampleSuperstore.csv\")\n",
    "df.head()"
   ]
  },
  {
   "cell_type": "markdown",
   "id": "f2a35cca",
   "metadata": {
    "papermill": {
     "duration": 0.008392,
     "end_time": "2023-12-24T08:42:57.914947",
     "exception": false,
     "start_time": "2023-12-24T08:42:57.906555",
     "status": "completed"
    },
    "tags": []
   },
   "source": [
    "**Info about the data and statistical discription:**"
   ]
  },
  {
   "cell_type": "code",
   "execution_count": 3,
   "id": "9e5cde54",
   "metadata": {
    "execution": {
     "iopub.execute_input": "2023-12-24T08:42:57.934595Z",
     "iopub.status.busy": "2023-12-24T08:42:57.934183Z",
     "iopub.status.idle": "2023-12-24T08:42:57.942053Z",
     "shell.execute_reply": "2023-12-24T08:42:57.940754Z"
    },
    "papermill": {
     "duration": 0.020736,
     "end_time": "2023-12-24T08:42:57.944500",
     "exception": false,
     "start_time": "2023-12-24T08:42:57.923764",
     "status": "completed"
    },
    "tags": []
   },
   "outputs": [
    {
     "data": {
      "text/plain": [
       "(9994, 13)"
      ]
     },
     "execution_count": 3,
     "metadata": {},
     "output_type": "execute_result"
    }
   ],
   "source": [
    "#showing no. of columns and rows\n",
    "df.shape"
   ]
  },
  {
   "cell_type": "code",
   "execution_count": 4,
   "id": "b2d0ef28",
   "metadata": {
    "execution": {
     "iopub.execute_input": "2023-12-24T08:42:57.964909Z",
     "iopub.status.busy": "2023-12-24T08:42:57.964511Z",
     "iopub.status.idle": "2023-12-24T08:42:57.971954Z",
     "shell.execute_reply": "2023-12-24T08:42:57.970964Z"
    },
    "papermill": {
     "duration": 0.019965,
     "end_time": "2023-12-24T08:42:57.974186",
     "exception": false,
     "start_time": "2023-12-24T08:42:57.954221",
     "status": "completed"
    },
    "tags": []
   },
   "outputs": [
    {
     "data": {
      "text/plain": [
       "Index(['Ship Mode', 'Segment', 'Country', 'City', 'State', 'Postal Code',\n",
       "       'Region', 'Category', 'Sub-Category', 'Sales', 'Quantity', 'Discount',\n",
       "       'Profit'],\n",
       "      dtype='object')"
      ]
     },
     "execution_count": 4,
     "metadata": {},
     "output_type": "execute_result"
    }
   ],
   "source": [
    "#showing all the fields\n",
    "df.columns"
   ]
  },
  {
   "cell_type": "code",
   "execution_count": 5,
   "id": "ffc1b915",
   "metadata": {
    "execution": {
     "iopub.execute_input": "2023-12-24T08:42:57.994269Z",
     "iopub.status.busy": "2023-12-24T08:42:57.993839Z",
     "iopub.status.idle": "2023-12-24T08:42:58.033914Z",
     "shell.execute_reply": "2023-12-24T08:42:58.032737Z"
    },
    "papermill": {
     "duration": 0.054219,
     "end_time": "2023-12-24T08:42:58.037505",
     "exception": false,
     "start_time": "2023-12-24T08:42:57.983286",
     "status": "completed"
    },
    "tags": []
   },
   "outputs": [
    {
     "name": "stdout",
     "output_type": "stream",
     "text": [
      "<class 'pandas.core.frame.DataFrame'>\n",
      "RangeIndex: 9994 entries, 0 to 9993\n",
      "Data columns (total 13 columns):\n",
      " #   Column        Non-Null Count  Dtype  \n",
      "---  ------        --------------  -----  \n",
      " 0   Ship Mode     9994 non-null   object \n",
      " 1   Segment       9994 non-null   object \n",
      " 2   Country       9994 non-null   object \n",
      " 3   City          9994 non-null   object \n",
      " 4   State         9994 non-null   object \n",
      " 5   Postal Code   9994 non-null   int64  \n",
      " 6   Region        9994 non-null   object \n",
      " 7   Category      9994 non-null   object \n",
      " 8   Sub-Category  9994 non-null   object \n",
      " 9   Sales         9994 non-null   float64\n",
      " 10  Quantity      9994 non-null   int64  \n",
      " 11  Discount      9994 non-null   float64\n",
      " 12  Profit        9994 non-null   float64\n",
      "dtypes: float64(3), int64(2), object(8)\n",
      "memory usage: 1015.1+ KB\n"
     ]
    }
   ],
   "source": [
    "#showing info about data\n",
    "df.info()"
   ]
  },
  {
   "cell_type": "code",
   "execution_count": 6,
   "id": "291ef95d",
   "metadata": {
    "execution": {
     "iopub.execute_input": "2023-12-24T08:42:58.064558Z",
     "iopub.status.busy": "2023-12-24T08:42:58.063753Z",
     "iopub.status.idle": "2023-12-24T08:42:58.097576Z",
     "shell.execute_reply": "2023-12-24T08:42:58.096360Z"
    },
    "papermill": {
     "duration": 0.048844,
     "end_time": "2023-12-24T08:42:58.101290",
     "exception": false,
     "start_time": "2023-12-24T08:42:58.052446",
     "status": "completed"
    },
    "tags": []
   },
   "outputs": [
    {
     "data": {
      "text/html": [
       "<div>\n",
       "<style scoped>\n",
       "    .dataframe tbody tr th:only-of-type {\n",
       "        vertical-align: middle;\n",
       "    }\n",
       "\n",
       "    .dataframe tbody tr th {\n",
       "        vertical-align: top;\n",
       "    }\n",
       "\n",
       "    .dataframe thead th {\n",
       "        text-align: right;\n",
       "    }\n",
       "</style>\n",
       "<table border=\"1\" class=\"dataframe\">\n",
       "  <thead>\n",
       "    <tr style=\"text-align: right;\">\n",
       "      <th></th>\n",
       "      <th>Postal Code</th>\n",
       "      <th>Sales</th>\n",
       "      <th>Quantity</th>\n",
       "      <th>Discount</th>\n",
       "      <th>Profit</th>\n",
       "    </tr>\n",
       "  </thead>\n",
       "  <tbody>\n",
       "    <tr>\n",
       "      <th>count</th>\n",
       "      <td>9994.000000</td>\n",
       "      <td>9994.000000</td>\n",
       "      <td>9994.000000</td>\n",
       "      <td>9994.000000</td>\n",
       "      <td>9994.000000</td>\n",
       "    </tr>\n",
       "    <tr>\n",
       "      <th>mean</th>\n",
       "      <td>55190.379428</td>\n",
       "      <td>229.858001</td>\n",
       "      <td>3.789574</td>\n",
       "      <td>0.156203</td>\n",
       "      <td>28.656896</td>\n",
       "    </tr>\n",
       "    <tr>\n",
       "      <th>std</th>\n",
       "      <td>32063.693350</td>\n",
       "      <td>623.245101</td>\n",
       "      <td>2.225110</td>\n",
       "      <td>0.206452</td>\n",
       "      <td>234.260108</td>\n",
       "    </tr>\n",
       "    <tr>\n",
       "      <th>min</th>\n",
       "      <td>1040.000000</td>\n",
       "      <td>0.444000</td>\n",
       "      <td>1.000000</td>\n",
       "      <td>0.000000</td>\n",
       "      <td>-6599.978000</td>\n",
       "    </tr>\n",
       "    <tr>\n",
       "      <th>25%</th>\n",
       "      <td>23223.000000</td>\n",
       "      <td>17.280000</td>\n",
       "      <td>2.000000</td>\n",
       "      <td>0.000000</td>\n",
       "      <td>1.728750</td>\n",
       "    </tr>\n",
       "    <tr>\n",
       "      <th>50%</th>\n",
       "      <td>56430.500000</td>\n",
       "      <td>54.490000</td>\n",
       "      <td>3.000000</td>\n",
       "      <td>0.200000</td>\n",
       "      <td>8.666500</td>\n",
       "    </tr>\n",
       "    <tr>\n",
       "      <th>75%</th>\n",
       "      <td>90008.000000</td>\n",
       "      <td>209.940000</td>\n",
       "      <td>5.000000</td>\n",
       "      <td>0.200000</td>\n",
       "      <td>29.364000</td>\n",
       "    </tr>\n",
       "    <tr>\n",
       "      <th>max</th>\n",
       "      <td>99301.000000</td>\n",
       "      <td>22638.480000</td>\n",
       "      <td>14.000000</td>\n",
       "      <td>0.800000</td>\n",
       "      <td>8399.976000</td>\n",
       "    </tr>\n",
       "  </tbody>\n",
       "</table>\n",
       "</div>"
      ],
      "text/plain": [
       "        Postal Code         Sales     Quantity     Discount       Profit\n",
       "count   9994.000000   9994.000000  9994.000000  9994.000000  9994.000000\n",
       "mean   55190.379428    229.858001     3.789574     0.156203    28.656896\n",
       "std    32063.693350    623.245101     2.225110     0.206452   234.260108\n",
       "min     1040.000000      0.444000     1.000000     0.000000 -6599.978000\n",
       "25%    23223.000000     17.280000     2.000000     0.000000     1.728750\n",
       "50%    56430.500000     54.490000     3.000000     0.200000     8.666500\n",
       "75%    90008.000000    209.940000     5.000000     0.200000    29.364000\n",
       "max    99301.000000  22638.480000    14.000000     0.800000  8399.976000"
      ]
     },
     "execution_count": 6,
     "metadata": {},
     "output_type": "execute_result"
    }
   ],
   "source": [
    "#showing statistical summary\n",
    "df.describe()"
   ]
  },
  {
   "cell_type": "code",
   "execution_count": 7,
   "id": "dfc61d63",
   "metadata": {
    "execution": {
     "iopub.execute_input": "2023-12-24T08:42:58.132846Z",
     "iopub.status.busy": "2023-12-24T08:42:58.132453Z",
     "iopub.status.idle": "2023-12-24T08:42:58.158950Z",
     "shell.execute_reply": "2023-12-24T08:42:58.158064Z"
    },
    "papermill": {
     "duration": 0.045938,
     "end_time": "2023-12-24T08:42:58.162190",
     "exception": false,
     "start_time": "2023-12-24T08:42:58.116252",
     "status": "completed"
    },
    "tags": []
   },
   "outputs": [
    {
     "data": {
      "text/plain": [
       "Ship Mode          4\n",
       "Segment            3\n",
       "Country            1\n",
       "City             531\n",
       "State             49\n",
       "Postal Code      631\n",
       "Region             4\n",
       "Category           3\n",
       "Sub-Category      17\n",
       "Sales           5825\n",
       "Quantity          14\n",
       "Discount          12\n",
       "Profit          7287\n",
       "dtype: int64"
      ]
     },
     "execution_count": 7,
     "metadata": {},
     "output_type": "execute_result"
    }
   ],
   "source": [
    "#showing no.of unique values present in data\n",
    "df.nunique()"
   ]
  },
  {
   "cell_type": "markdown",
   "id": "40a38c30",
   "metadata": {
    "papermill": {
     "duration": 0.009737,
     "end_time": "2023-12-24T08:42:58.182010",
     "exception": false,
     "start_time": "2023-12-24T08:42:58.172273",
     "status": "completed"
    },
    "tags": []
   },
   "source": [
    "**DATA CLEANING**"
   ]
  },
  {
   "cell_type": "code",
   "execution_count": 8,
   "id": "a64cd5d4",
   "metadata": {
    "execution": {
     "iopub.execute_input": "2023-12-24T08:42:58.204931Z",
     "iopub.status.busy": "2023-12-24T08:42:58.203978Z",
     "iopub.status.idle": "2023-12-24T08:42:58.218175Z",
     "shell.execute_reply": "2023-12-24T08:42:58.217011Z"
    },
    "papermill": {
     "duration": 0.028137,
     "end_time": "2023-12-24T08:42:58.220659",
     "exception": false,
     "start_time": "2023-12-24T08:42:58.192522",
     "status": "completed"
    },
    "tags": []
   },
   "outputs": [
    {
     "data": {
      "text/plain": [
       "Ship Mode       0\n",
       "Segment         0\n",
       "Country         0\n",
       "City            0\n",
       "State           0\n",
       "Postal Code     0\n",
       "Region          0\n",
       "Category        0\n",
       "Sub-Category    0\n",
       "Sales           0\n",
       "Quantity        0\n",
       "Discount        0\n",
       "Profit          0\n",
       "dtype: int64"
      ]
     },
     "execution_count": 8,
     "metadata": {},
     "output_type": "execute_result"
    }
   ],
   "source": [
    "#checking null values\n",
    "df.isna().sum()"
   ]
  },
  {
   "cell_type": "code",
   "execution_count": 9,
   "id": "f26adce9",
   "metadata": {
    "execution": {
     "iopub.execute_input": "2023-12-24T08:42:58.241974Z",
     "iopub.status.busy": "2023-12-24T08:42:58.241565Z",
     "iopub.status.idle": "2023-12-24T08:42:58.260320Z",
     "shell.execute_reply": "2023-12-24T08:42:58.259190Z"
    },
    "papermill": {
     "duration": 0.032249,
     "end_time": "2023-12-24T08:42:58.262736",
     "exception": false,
     "start_time": "2023-12-24T08:42:58.230487",
     "status": "completed"
    },
    "tags": []
   },
   "outputs": [
    {
     "data": {
      "text/plain": [
       "17"
      ]
     },
     "execution_count": 9,
     "metadata": {},
     "output_type": "execute_result"
    }
   ],
   "source": [
    "# Checking the dupilication in data\n",
    "df.duplicated().sum()"
   ]
  },
  {
   "cell_type": "code",
   "execution_count": 10,
   "id": "dce6e32e",
   "metadata": {
    "execution": {
     "iopub.execute_input": "2023-12-24T08:42:58.284526Z",
     "iopub.status.busy": "2023-12-24T08:42:58.283893Z",
     "iopub.status.idle": "2023-12-24T08:42:58.304086Z",
     "shell.execute_reply": "2023-12-24T08:42:58.302937Z"
    },
    "papermill": {
     "duration": 0.03439,
     "end_time": "2023-12-24T08:42:58.307109",
     "exception": false,
     "start_time": "2023-12-24T08:42:58.272719",
     "status": "completed"
    },
    "tags": []
   },
   "outputs": [
    {
     "data": {
      "text/plain": [
       "(9977, 13)"
      ]
     },
     "execution_count": 10,
     "metadata": {},
     "output_type": "execute_result"
    }
   ],
   "source": [
    "#dropping the duplicate values\n",
    "df.drop_duplicates(inplace=True)\n",
    "df.shape"
   ]
  },
  {
   "cell_type": "code",
   "execution_count": 11,
   "id": "4e7f3054",
   "metadata": {
    "execution": {
     "iopub.execute_input": "2023-12-24T08:42:58.332583Z",
     "iopub.status.busy": "2023-12-24T08:42:58.331856Z",
     "iopub.status.idle": "2023-12-24T08:42:58.343866Z",
     "shell.execute_reply": "2023-12-24T08:42:58.342501Z"
    },
    "papermill": {
     "duration": 0.029929,
     "end_time": "2023-12-24T08:42:58.348081",
     "exception": false,
     "start_time": "2023-12-24T08:42:58.318152",
     "status": "completed"
    },
    "tags": []
   },
   "outputs": [
    {
     "data": {
      "text/plain": [
       "Index(['Sales', 'Quantity', 'Discount', 'Profit'], dtype='object')"
      ]
     },
     "execution_count": 11,
     "metadata": {},
     "output_type": "execute_result"
    }
   ],
   "source": [
    "#Deleting the categorical Variable for correlation\n",
    "col=['Postal Code','Segment','Country','City','State','Ship Mode','Category','Region','Sub-Category']\n",
    "df1=df.drop(columns=col,axis=1)\n",
    "df1.columns"
   ]
  },
  {
   "cell_type": "code",
   "execution_count": 12,
   "id": "ee4f65cb",
   "metadata": {
    "execution": {
     "iopub.execute_input": "2023-12-24T08:42:58.373431Z",
     "iopub.status.busy": "2023-12-24T08:42:58.372655Z",
     "iopub.status.idle": "2023-12-24T08:42:58.387397Z",
     "shell.execute_reply": "2023-12-24T08:42:58.386280Z"
    },
    "papermill": {
     "duration": 0.03061,
     "end_time": "2023-12-24T08:42:58.390236",
     "exception": false,
     "start_time": "2023-12-24T08:42:58.359626",
     "status": "completed"
    },
    "tags": []
   },
   "outputs": [
    {
     "data": {
      "text/html": [
       "<div>\n",
       "<style scoped>\n",
       "    .dataframe tbody tr th:only-of-type {\n",
       "        vertical-align: middle;\n",
       "    }\n",
       "\n",
       "    .dataframe tbody tr th {\n",
       "        vertical-align: top;\n",
       "    }\n",
       "\n",
       "    .dataframe thead th {\n",
       "        text-align: right;\n",
       "    }\n",
       "</style>\n",
       "<table border=\"1\" class=\"dataframe\">\n",
       "  <thead>\n",
       "    <tr style=\"text-align: right;\">\n",
       "      <th></th>\n",
       "      <th>Sales</th>\n",
       "      <th>Quantity</th>\n",
       "      <th>Discount</th>\n",
       "      <th>Profit</th>\n",
       "    </tr>\n",
       "  </thead>\n",
       "  <tbody>\n",
       "    <tr>\n",
       "      <th>Sales</th>\n",
       "      <td>1.000000</td>\n",
       "      <td>0.200722</td>\n",
       "      <td>-0.028311</td>\n",
       "      <td>0.479067</td>\n",
       "    </tr>\n",
       "    <tr>\n",
       "      <th>Quantity</th>\n",
       "      <td>0.200722</td>\n",
       "      <td>1.000000</td>\n",
       "      <td>0.008678</td>\n",
       "      <td>0.066211</td>\n",
       "    </tr>\n",
       "    <tr>\n",
       "      <th>Discount</th>\n",
       "      <td>-0.028311</td>\n",
       "      <td>0.008678</td>\n",
       "      <td>1.000000</td>\n",
       "      <td>-0.219662</td>\n",
       "    </tr>\n",
       "    <tr>\n",
       "      <th>Profit</th>\n",
       "      <td>0.479067</td>\n",
       "      <td>0.066211</td>\n",
       "      <td>-0.219662</td>\n",
       "      <td>1.000000</td>\n",
       "    </tr>\n",
       "  </tbody>\n",
       "</table>\n",
       "</div>"
      ],
      "text/plain": [
       "             Sales  Quantity  Discount    Profit\n",
       "Sales     1.000000  0.200722 -0.028311  0.479067\n",
       "Quantity  0.200722  1.000000  0.008678  0.066211\n",
       "Discount -0.028311  0.008678  1.000000 -0.219662\n",
       "Profit    0.479067  0.066211 -0.219662  1.000000"
      ]
     },
     "execution_count": 12,
     "metadata": {},
     "output_type": "execute_result"
    }
   ],
   "source": [
    "df1.corr()"
   ]
  },
  {
   "cell_type": "code",
   "execution_count": 13,
   "id": "c121c960",
   "metadata": {
    "execution": {
     "iopub.execute_input": "2023-12-24T08:42:58.416072Z",
     "iopub.status.busy": "2023-12-24T08:42:58.415257Z",
     "iopub.status.idle": "2023-12-24T08:42:58.430641Z",
     "shell.execute_reply": "2023-12-24T08:42:58.429520Z"
    },
    "papermill": {
     "duration": 0.029587,
     "end_time": "2023-12-24T08:42:58.432968",
     "exception": false,
     "start_time": "2023-12-24T08:42:58.403381",
     "status": "completed"
    },
    "tags": []
   },
   "outputs": [
    {
     "data": {
      "text/html": [
       "<div>\n",
       "<style scoped>\n",
       "    .dataframe tbody tr th:only-of-type {\n",
       "        vertical-align: middle;\n",
       "    }\n",
       "\n",
       "    .dataframe tbody tr th {\n",
       "        vertical-align: top;\n",
       "    }\n",
       "\n",
       "    .dataframe thead th {\n",
       "        text-align: right;\n",
       "    }\n",
       "</style>\n",
       "<table border=\"1\" class=\"dataframe\">\n",
       "  <thead>\n",
       "    <tr style=\"text-align: right;\">\n",
       "      <th></th>\n",
       "      <th>Sales</th>\n",
       "      <th>Quantity</th>\n",
       "      <th>Discount</th>\n",
       "      <th>Profit</th>\n",
       "    </tr>\n",
       "  </thead>\n",
       "  <tbody>\n",
       "    <tr>\n",
       "      <th>0</th>\n",
       "      <td>261.9600</td>\n",
       "      <td>2</td>\n",
       "      <td>0.00</td>\n",
       "      <td>41.9136</td>\n",
       "    </tr>\n",
       "    <tr>\n",
       "      <th>1</th>\n",
       "      <td>731.9400</td>\n",
       "      <td>3</td>\n",
       "      <td>0.00</td>\n",
       "      <td>219.5820</td>\n",
       "    </tr>\n",
       "    <tr>\n",
       "      <th>2</th>\n",
       "      <td>14.6200</td>\n",
       "      <td>2</td>\n",
       "      <td>0.00</td>\n",
       "      <td>6.8714</td>\n",
       "    </tr>\n",
       "    <tr>\n",
       "      <th>3</th>\n",
       "      <td>957.5775</td>\n",
       "      <td>5</td>\n",
       "      <td>0.45</td>\n",
       "      <td>-383.0310</td>\n",
       "    </tr>\n",
       "    <tr>\n",
       "      <th>4</th>\n",
       "      <td>22.3680</td>\n",
       "      <td>2</td>\n",
       "      <td>0.20</td>\n",
       "      <td>2.5164</td>\n",
       "    </tr>\n",
       "  </tbody>\n",
       "</table>\n",
       "</div>"
      ],
      "text/plain": [
       "      Sales  Quantity  Discount    Profit\n",
       "0  261.9600         2      0.00   41.9136\n",
       "1  731.9400         3      0.00  219.5820\n",
       "2   14.6200         2      0.00    6.8714\n",
       "3  957.5775         5      0.45 -383.0310\n",
       "4   22.3680         2      0.20    2.5164"
      ]
     },
     "execution_count": 13,
     "metadata": {},
     "output_type": "execute_result"
    }
   ],
   "source": [
    "df1.head()"
   ]
  },
  {
   "cell_type": "markdown",
   "id": "14cd0ab0",
   "metadata": {
    "papermill": {
     "duration": 0.00987,
     "end_time": "2023-12-24T08:42:58.453944",
     "exception": false,
     "start_time": "2023-12-24T08:42:58.444074",
     "status": "completed"
    },
    "tags": []
   },
   "source": [
    "**EDA (EXPLORATORY DATA ANALYSIS)**"
   ]
  },
  {
   "cell_type": "code",
   "execution_count": 14,
   "id": "d6b1a7e2",
   "metadata": {
    "execution": {
     "iopub.execute_input": "2023-12-24T08:42:58.477847Z",
     "iopub.status.busy": "2023-12-24T08:42:58.476487Z",
     "iopub.status.idle": "2023-12-24T08:42:58.950529Z",
     "shell.execute_reply": "2023-12-24T08:42:58.949364Z"
    },
    "papermill": {
     "duration": 0.489116,
     "end_time": "2023-12-24T08:42:58.953372",
     "exception": false,
     "start_time": "2023-12-24T08:42:58.464256",
     "status": "completed"
    },
    "tags": []
   },
   "outputs": [
    {
     "data": {
      "image/png": "[encoded data removed]",
      "text/plain": [
       "<Figure size 1200x600 with 2 Axes>"
      ]
     },
     "metadata": {},
     "output_type": "display_data"
    }
   ],
   "source": [
    "#relation between sales,profit,quantity and discount\n",
    "plt.figure(figsize=(12,6))\n",
    "sns.set_theme(style=\"white\")\n",
    "corr = df1.corr()\n",
    "heatmap = sns.heatmap(corr, annot=True, cmap = 'GnBu')"
   ]
  },
  {
   "cell_type": "markdown",
   "id": "faa632f0",
   "metadata": {
    "papermill": {
     "duration": 0.010495,
     "end_time": "2023-12-24T08:42:58.974801",
     "exception": false,
     "start_time": "2023-12-24T08:42:58.964306",
     "status": "completed"
    },
    "tags": []
   },
   "source": [
    "**The above heatmap shows that Profits, Sales and Quantity these features/columns have strong bond, which means any slight change in any of these will impact the business.**"
   ]
  },
  {
   "cell_type": "code",
   "execution_count": 15,
   "id": "4969372d",
   "metadata": {
    "execution": {
     "iopub.execute_input": "2023-12-24T08:42:58.999264Z",
     "iopub.status.busy": "2023-12-24T08:42:58.998184Z",
     "iopub.status.idle": "2023-12-24T08:42:59.022979Z",
     "shell.execute_reply": "2023-12-24T08:42:59.021837Z"
    },
    "papermill": {
     "duration": 0.039839,
     "end_time": "2023-12-24T08:42:59.025588",
     "exception": false,
     "start_time": "2023-12-24T08:42:58.985749",
     "status": "completed"
    },
    "tags": []
   },
   "outputs": [
    {
     "data": {
      "text/html": [
       "<div>\n",
       "<style scoped>\n",
       "    .dataframe tbody tr th:only-of-type {\n",
       "        vertical-align: middle;\n",
       "    }\n",
       "\n",
       "    .dataframe tbody tr th {\n",
       "        vertical-align: top;\n",
       "    }\n",
       "\n",
       "    .dataframe thead th {\n",
       "        text-align: right;\n",
       "    }\n",
       "</style>\n",
       "<table border=\"1\" class=\"dataframe\">\n",
       "  <thead>\n",
       "    <tr style=\"text-align: right;\">\n",
       "      <th></th>\n",
       "      <th>Ship Mode</th>\n",
       "      <th>Segment</th>\n",
       "      <th>Country</th>\n",
       "      <th>City</th>\n",
       "      <th>State</th>\n",
       "      <th>Postal Code</th>\n",
       "      <th>Region</th>\n",
       "      <th>Category</th>\n",
       "      <th>Sub-Category</th>\n",
       "      <th>Sales</th>\n",
       "      <th>Quantity</th>\n",
       "      <th>Discount</th>\n",
       "      <th>Profit</th>\n",
       "      <th>Profit %</th>\n",
       "    </tr>\n",
       "  </thead>\n",
       "  <tbody>\n",
       "    <tr>\n",
       "      <th>0</th>\n",
       "      <td>Second Class</td>\n",
       "      <td>Consumer</td>\n",
       "      <td>United States</td>\n",
       "      <td>Henderson</td>\n",
       "      <td>Kentucky</td>\n",
       "      <td>42420</td>\n",
       "      <td>South</td>\n",
       "      <td>Furniture</td>\n",
       "      <td>Bookcases</td>\n",
       "      <td>261.9600</td>\n",
       "      <td>2</td>\n",
       "      <td>0.00</td>\n",
       "      <td>41.9136</td>\n",
       "      <td>16.00</td>\n",
       "    </tr>\n",
       "    <tr>\n",
       "      <th>1</th>\n",
       "      <td>Second Class</td>\n",
       "      <td>Consumer</td>\n",
       "      <td>United States</td>\n",
       "      <td>Henderson</td>\n",
       "      <td>Kentucky</td>\n",
       "      <td>42420</td>\n",
       "      <td>South</td>\n",
       "      <td>Furniture</td>\n",
       "      <td>Chairs</td>\n",
       "      <td>731.9400</td>\n",
       "      <td>3</td>\n",
       "      <td>0.00</td>\n",
       "      <td>219.5820</td>\n",
       "      <td>30.00</td>\n",
       "    </tr>\n",
       "    <tr>\n",
       "      <th>2</th>\n",
       "      <td>Second Class</td>\n",
       "      <td>Corporate</td>\n",
       "      <td>United States</td>\n",
       "      <td>Los Angeles</td>\n",
       "      <td>California</td>\n",
       "      <td>90036</td>\n",
       "      <td>West</td>\n",
       "      <td>Office Supplies</td>\n",
       "      <td>Labels</td>\n",
       "      <td>14.6200</td>\n",
       "      <td>2</td>\n",
       "      <td>0.00</td>\n",
       "      <td>6.8714</td>\n",
       "      <td>47.00</td>\n",
       "    </tr>\n",
       "    <tr>\n",
       "      <th>3</th>\n",
       "      <td>Standard Class</td>\n",
       "      <td>Consumer</td>\n",
       "      <td>United States</td>\n",
       "      <td>Fort Lauderdale</td>\n",
       "      <td>Florida</td>\n",
       "      <td>33311</td>\n",
       "      <td>South</td>\n",
       "      <td>Furniture</td>\n",
       "      <td>Tables</td>\n",
       "      <td>957.5775</td>\n",
       "      <td>5</td>\n",
       "      <td>0.45</td>\n",
       "      <td>-383.0310</td>\n",
       "      <td>-40.00</td>\n",
       "    </tr>\n",
       "    <tr>\n",
       "      <th>4</th>\n",
       "      <td>Standard Class</td>\n",
       "      <td>Consumer</td>\n",
       "      <td>United States</td>\n",
       "      <td>Fort Lauderdale</td>\n",
       "      <td>Florida</td>\n",
       "      <td>33311</td>\n",
       "      <td>South</td>\n",
       "      <td>Office Supplies</td>\n",
       "      <td>Storage</td>\n",
       "      <td>22.3680</td>\n",
       "      <td>2</td>\n",
       "      <td>0.20</td>\n",
       "      <td>2.5164</td>\n",
       "      <td>11.25</td>\n",
       "    </tr>\n",
       "  </tbody>\n",
       "</table>\n",
       "</div>"
      ],
      "text/plain": [
       "        Ship Mode    Segment        Country             City       State  \\\n",
       "0    Second Class   Consumer  United States        Henderson    Kentucky   \n",
       "1    Second Class   Consumer  United States        Henderson    Kentucky   \n",
       "2    Second Class  Corporate  United States      Los Angeles  California   \n",
       "3  Standard Class   Consumer  United States  Fort Lauderdale     Florida   \n",
       "4  Standard Class   Consumer  United States  Fort Lauderdale     Florida   \n",
       "\n",
       "   Postal Code Region         Category Sub-Category     Sales  Quantity  \\\n",
       "0        42420  South        Furniture    Bookcases  261.9600         2   \n",
       "1        42420  South        Furniture       Chairs  731.9400         3   \n",
       "2        90036   West  Office Supplies       Labels   14.6200         2   \n",
       "3        33311  South        Furniture       Tables  957.5775         5   \n",
       "4        33311  South  Office Supplies      Storage   22.3680         2   \n",
       "\n",
       "   Discount    Profit  Profit %  \n",
       "0      0.00   41.9136     16.00  \n",
       "1      0.00  219.5820     30.00  \n",
       "2      0.00    6.8714     47.00  \n",
       "3      0.45 -383.0310    -40.00  \n",
       "4      0.20    2.5164     11.25  "
      ]
     },
     "execution_count": 15,
     "metadata": {},
     "output_type": "execute_result"
    }
   ],
   "source": [
    "#creating a field for profitmagin\n",
    "df['Profit %'] = (df.Profit / df.Sales) * 100\n",
    "df.head()"
   ]
  },
  {
   "cell_type": "code",
   "execution_count": 16,
   "id": "89e4e9e5",
   "metadata": {
    "execution": {
     "iopub.execute_input": "2023-12-24T08:42:59.052205Z",
     "iopub.status.busy": "2023-12-24T08:42:59.051794Z",
     "iopub.status.idle": "2023-12-24T08:42:59.107113Z",
     "shell.execute_reply": "2023-12-24T08:42:59.106061Z"
    },
    "papermill": {
     "duration": 0.072436,
     "end_time": "2023-12-24T08:42:59.109585",
     "exception": false,
     "start_time": "2023-12-24T08:42:59.037149",
     "status": "completed"
    },
    "tags": []
   },
   "outputs": [
    {
     "data": {
      "text/html": [
       "<div>\n",
       "<style scoped>\n",
       "    .dataframe tbody tr th:only-of-type {\n",
       "        vertical-align: middle;\n",
       "    }\n",
       "\n",
       "    .dataframe tbody tr th {\n",
       "        vertical-align: top;\n",
       "    }\n",
       "\n",
       "    .dataframe thead th {\n",
       "        text-align: right;\n",
       "    }\n",
       "</style>\n",
       "<table border=\"1\" class=\"dataframe\">\n",
       "  <thead>\n",
       "    <tr style=\"text-align: right;\">\n",
       "      <th></th>\n",
       "      <th>count</th>\n",
       "      <th>unique</th>\n",
       "      <th>top</th>\n",
       "      <th>freq</th>\n",
       "      <th>mean</th>\n",
       "      <th>std</th>\n",
       "      <th>min</th>\n",
       "      <th>25%</th>\n",
       "      <th>50%</th>\n",
       "      <th>75%</th>\n",
       "      <th>max</th>\n",
       "    </tr>\n",
       "  </thead>\n",
       "  <tbody>\n",
       "    <tr>\n",
       "      <th>Ship Mode</th>\n",
       "      <td>9977</td>\n",
       "      <td>4</td>\n",
       "      <td>Standard Class</td>\n",
       "      <td>5955</td>\n",
       "      <td>NaN</td>\n",
       "      <td>NaN</td>\n",
       "      <td>NaN</td>\n",
       "      <td>NaN</td>\n",
       "      <td>NaN</td>\n",
       "      <td>NaN</td>\n",
       "      <td>NaN</td>\n",
       "    </tr>\n",
       "    <tr>\n",
       "      <th>Segment</th>\n",
       "      <td>9977</td>\n",
       "      <td>3</td>\n",
       "      <td>Consumer</td>\n",
       "      <td>5183</td>\n",
       "      <td>NaN</td>\n",
       "      <td>NaN</td>\n",
       "      <td>NaN</td>\n",
       "      <td>NaN</td>\n",
       "      <td>NaN</td>\n",
       "      <td>NaN</td>\n",
       "      <td>NaN</td>\n",
       "    </tr>\n",
       "    <tr>\n",
       "      <th>Country</th>\n",
       "      <td>9977</td>\n",
       "      <td>1</td>\n",
       "      <td>United States</td>\n",
       "      <td>9977</td>\n",
       "      <td>NaN</td>\n",
       "      <td>NaN</td>\n",
       "      <td>NaN</td>\n",
       "      <td>NaN</td>\n",
       "      <td>NaN</td>\n",
       "      <td>NaN</td>\n",
       "      <td>NaN</td>\n",
       "    </tr>\n",
       "    <tr>\n",
       "      <th>City</th>\n",
       "      <td>9977</td>\n",
       "      <td>531</td>\n",
       "      <td>New York City</td>\n",
       "      <td>914</td>\n",
       "      <td>NaN</td>\n",
       "      <td>NaN</td>\n",
       "      <td>NaN</td>\n",
       "      <td>NaN</td>\n",
       "      <td>NaN</td>\n",
       "      <td>NaN</td>\n",
       "      <td>NaN</td>\n",
       "    </tr>\n",
       "    <tr>\n",
       "      <th>State</th>\n",
       "      <td>9977</td>\n",
       "      <td>49</td>\n",
       "      <td>California</td>\n",
       "      <td>1996</td>\n",
       "      <td>NaN</td>\n",
       "      <td>NaN</td>\n",
       "      <td>NaN</td>\n",
       "      <td>NaN</td>\n",
       "      <td>NaN</td>\n",
       "      <td>NaN</td>\n",
       "      <td>NaN</td>\n",
       "    </tr>\n",
       "    <tr>\n",
       "      <th>Postal Code</th>\n",
       "      <td>9977.0</td>\n",
       "      <td>NaN</td>\n",
       "      <td>NaN</td>\n",
       "      <td>NaN</td>\n",
       "      <td>55154.964117</td>\n",
       "      <td>32058.266816</td>\n",
       "      <td>1040.0</td>\n",
       "      <td>23223.0</td>\n",
       "      <td>55901.0</td>\n",
       "      <td>90008.0</td>\n",
       "      <td>99301.0</td>\n",
       "    </tr>\n",
       "    <tr>\n",
       "      <th>Region</th>\n",
       "      <td>9977</td>\n",
       "      <td>4</td>\n",
       "      <td>West</td>\n",
       "      <td>3193</td>\n",
       "      <td>NaN</td>\n",
       "      <td>NaN</td>\n",
       "      <td>NaN</td>\n",
       "      <td>NaN</td>\n",
       "      <td>NaN</td>\n",
       "      <td>NaN</td>\n",
       "      <td>NaN</td>\n",
       "    </tr>\n",
       "    <tr>\n",
       "      <th>Category</th>\n",
       "      <td>9977</td>\n",
       "      <td>3</td>\n",
       "      <td>Office Supplies</td>\n",
       "      <td>6012</td>\n",
       "      <td>NaN</td>\n",
       "      <td>NaN</td>\n",
       "      <td>NaN</td>\n",
       "      <td>NaN</td>\n",
       "      <td>NaN</td>\n",
       "      <td>NaN</td>\n",
       "      <td>NaN</td>\n",
       "    </tr>\n",
       "    <tr>\n",
       "      <th>Sub-Category</th>\n",
       "      <td>9977</td>\n",
       "      <td>17</td>\n",
       "      <td>Binders</td>\n",
       "      <td>1522</td>\n",
       "      <td>NaN</td>\n",
       "      <td>NaN</td>\n",
       "      <td>NaN</td>\n",
       "      <td>NaN</td>\n",
       "      <td>NaN</td>\n",
       "      <td>NaN</td>\n",
       "      <td>NaN</td>\n",
       "    </tr>\n",
       "    <tr>\n",
       "      <th>Sales</th>\n",
       "      <td>9977.0</td>\n",
       "      <td>NaN</td>\n",
       "      <td>NaN</td>\n",
       "      <td>NaN</td>\n",
       "      <td>230.148902</td>\n",
       "      <td>623.721409</td>\n",
       "      <td>0.444</td>\n",
       "      <td>17.3</td>\n",
       "      <td>54.816</td>\n",
       "      <td>209.97</td>\n",
       "      <td>22638.48</td>\n",
       "    </tr>\n",
       "    <tr>\n",
       "      <th>Quantity</th>\n",
       "      <td>9977.0</td>\n",
       "      <td>NaN</td>\n",
       "      <td>NaN</td>\n",
       "      <td>NaN</td>\n",
       "      <td>3.790719</td>\n",
       "      <td>2.226657</td>\n",
       "      <td>1.0</td>\n",
       "      <td>2.0</td>\n",
       "      <td>3.0</td>\n",
       "      <td>5.0</td>\n",
       "      <td>14.0</td>\n",
       "    </tr>\n",
       "    <tr>\n",
       "      <th>Discount</th>\n",
       "      <td>9977.0</td>\n",
       "      <td>NaN</td>\n",
       "      <td>NaN</td>\n",
       "      <td>NaN</td>\n",
       "      <td>0.156278</td>\n",
       "      <td>0.206455</td>\n",
       "      <td>0.0</td>\n",
       "      <td>0.0</td>\n",
       "      <td>0.2</td>\n",
       "      <td>0.2</td>\n",
       "      <td>0.8</td>\n",
       "    </tr>\n",
       "    <tr>\n",
       "      <th>Profit</th>\n",
       "      <td>9977.0</td>\n",
       "      <td>NaN</td>\n",
       "      <td>NaN</td>\n",
       "      <td>NaN</td>\n",
       "      <td>28.69013</td>\n",
       "      <td>234.45784</td>\n",
       "      <td>-6599.978</td>\n",
       "      <td>1.7262</td>\n",
       "      <td>8.671</td>\n",
       "      <td>29.372</td>\n",
       "      <td>8399.976</td>\n",
       "    </tr>\n",
       "    <tr>\n",
       "      <th>Profit %</th>\n",
       "      <td>9977.0</td>\n",
       "      <td>NaN</td>\n",
       "      <td>NaN</td>\n",
       "      <td>NaN</td>\n",
       "      <td>12.011354</td>\n",
       "      <td>46.663769</td>\n",
       "      <td>-275.0</td>\n",
       "      <td>7.5</td>\n",
       "      <td>27.0</td>\n",
       "      <td>36.25</td>\n",
       "      <td>50.0</td>\n",
       "    </tr>\n",
       "  </tbody>\n",
       "</table>\n",
       "</div>"
      ],
      "text/plain": [
       "               count unique              top  freq          mean  \\\n",
       "Ship Mode       9977      4   Standard Class  5955           NaN   \n",
       "Segment         9977      3         Consumer  5183           NaN   \n",
       "Country         9977      1    United States  9977           NaN   \n",
       "City            9977    531    New York City   914           NaN   \n",
       "State           9977     49       California  1996           NaN   \n",
       "Postal Code   9977.0    NaN              NaN   NaN  55154.964117   \n",
       "Region          9977      4             West  3193           NaN   \n",
       "Category        9977      3  Office Supplies  6012           NaN   \n",
       "Sub-Category    9977     17          Binders  1522           NaN   \n",
       "Sales         9977.0    NaN              NaN   NaN    230.148902   \n",
       "Quantity      9977.0    NaN              NaN   NaN      3.790719   \n",
       "Discount      9977.0    NaN              NaN   NaN      0.156278   \n",
       "Profit        9977.0    NaN              NaN   NaN      28.69013   \n",
       "Profit %      9977.0    NaN              NaN   NaN     12.011354   \n",
       "\n",
       "                       std       min      25%      50%      75%       max  \n",
       "Ship Mode              NaN       NaN      NaN      NaN      NaN       NaN  \n",
       "Segment                NaN       NaN      NaN      NaN      NaN       NaN  \n",
       "Country                NaN       NaN      NaN      NaN      NaN       NaN  \n",
       "City                   NaN       NaN      NaN      NaN      NaN       NaN  \n",
       "State                  NaN       NaN      NaN      NaN      NaN       NaN  \n",
       "Postal Code   32058.266816    1040.0  23223.0  55901.0  90008.0   99301.0  \n",
       "Region                 NaN       NaN      NaN      NaN      NaN       NaN  \n",
       "Category               NaN       NaN      NaN      NaN      NaN       NaN  \n",
       "Sub-Category           NaN       NaN      NaN      NaN      NaN       NaN  \n",
       "Sales           623.721409     0.444     17.3   54.816   209.97  22638.48  \n",
       "Quantity          2.226657       1.0      2.0      3.0      5.0      14.0  \n",
       "Discount          0.206455       0.0      0.0      0.2      0.2       0.8  \n",
       "Profit           234.45784 -6599.978   1.7262    8.671   29.372  8399.976  \n",
       "Profit %         46.663769    -275.0      7.5     27.0    36.25      50.0  "
      ]
     },
     "execution_count": 16,
     "metadata": {},
     "output_type": "execute_result"
    }
   ],
   "source": [
    "#descriptive summary\n",
    "df.describe(include = \"all\").T"
   ]
  },
  {
   "cell_type": "markdown",
   "id": "0c9cef91",
   "metadata": {
    "papermill": {
     "duration": 0.01384,
     "end_time": "2023-12-24T08:42:59.136441",
     "exception": false,
     "start_time": "2023-12-24T08:42:59.122601",
     "status": "completed"
    },
    "tags": []
   },
   "source": [
    "**'NaN' is showing for categorical columns because they are not meant to have calculations performed on them.**"
   ]
  },
  {
   "cell_type": "markdown",
   "id": "f326be4a",
   "metadata": {
    "papermill": {
     "duration": 0.012431,
     "end_time": "2023-12-24T08:42:59.161057",
     "exception": false,
     "start_time": "2023-12-24T08:42:59.148626",
     "status": "completed"
    },
    "tags": []
   },
   "source": [
    "**Q. Which is the Top Selling Sub-Category**"
   ]
  },
  {
   "cell_type": "code",
   "execution_count": 17,
   "id": "11d2e6ea",
   "metadata": {
    "execution": {
     "iopub.execute_input": "2023-12-24T08:42:59.272585Z",
     "iopub.status.busy": "2023-12-24T08:42:59.271916Z",
     "iopub.status.idle": "2023-12-24T08:42:59.284500Z",
     "shell.execute_reply": "2023-12-24T08:42:59.283693Z"
    },
    "papermill": {
     "duration": 0.028767,
     "end_time": "2023-12-24T08:42:59.286670",
     "exception": false,
     "start_time": "2023-12-24T08:42:59.257903",
     "status": "completed"
    },
    "tags": []
   },
   "outputs": [
    {
     "data": {
      "text/html": [
       "<div>\n",
       "<style scoped>\n",
       "    .dataframe tbody tr th:only-of-type {\n",
       "        vertical-align: middle;\n",
       "    }\n",
       "\n",
       "    .dataframe tbody tr th {\n",
       "        vertical-align: top;\n",
       "    }\n",
       "\n",
       "    .dataframe thead th {\n",
       "        text-align: right;\n",
       "    }\n",
       "</style>\n",
       "<table border=\"1\" class=\"dataframe\">\n",
       "  <thead>\n",
       "    <tr style=\"text-align: right;\">\n",
       "      <th></th>\n",
       "      <th>Quantity</th>\n",
       "    </tr>\n",
       "    <tr>\n",
       "      <th>Sub-Category</th>\n",
       "      <th></th>\n",
       "    </tr>\n",
       "  </thead>\n",
       "  <tbody>\n",
       "    <tr>\n",
       "      <th>Binders</th>\n",
       "      <td>5971</td>\n",
       "    </tr>\n",
       "    <tr>\n",
       "      <th>Paper</th>\n",
       "      <td>5144</td>\n",
       "    </tr>\n",
       "    <tr>\n",
       "      <th>Furnishings</th>\n",
       "      <td>3560</td>\n",
       "    </tr>\n",
       "    <tr>\n",
       "      <th>Phones</th>\n",
       "      <td>3289</td>\n",
       "    </tr>\n",
       "    <tr>\n",
       "      <th>Storage</th>\n",
       "      <td>3158</td>\n",
       "    </tr>\n",
       "    <tr>\n",
       "      <th>Art</th>\n",
       "      <td>2996</td>\n",
       "    </tr>\n",
       "    <tr>\n",
       "      <th>Accessories</th>\n",
       "      <td>2976</td>\n",
       "    </tr>\n",
       "    <tr>\n",
       "      <th>Chairs</th>\n",
       "      <td>2351</td>\n",
       "    </tr>\n",
       "    <tr>\n",
       "      <th>Appliances</th>\n",
       "      <td>1729</td>\n",
       "    </tr>\n",
       "    <tr>\n",
       "      <th>Labels</th>\n",
       "      <td>1396</td>\n",
       "    </tr>\n",
       "    <tr>\n",
       "      <th>Tables</th>\n",
       "      <td>1241</td>\n",
       "    </tr>\n",
       "    <tr>\n",
       "      <th>Fasteners</th>\n",
       "      <td>914</td>\n",
       "    </tr>\n",
       "    <tr>\n",
       "      <th>Envelopes</th>\n",
       "      <td>906</td>\n",
       "    </tr>\n",
       "    <tr>\n",
       "      <th>Bookcases</th>\n",
       "      <td>868</td>\n",
       "    </tr>\n",
       "    <tr>\n",
       "      <th>Supplies</th>\n",
       "      <td>647</td>\n",
       "    </tr>\n",
       "    <tr>\n",
       "      <th>Machines</th>\n",
       "      <td>440</td>\n",
       "    </tr>\n",
       "    <tr>\n",
       "      <th>Copiers</th>\n",
       "      <td>234</td>\n",
       "    </tr>\n",
       "  </tbody>\n",
       "</table>\n",
       "</div>"
      ],
      "text/plain": [
       "              Quantity\n",
       "Sub-Category          \n",
       "Binders           5971\n",
       "Paper             5144\n",
       "Furnishings       3560\n",
       "Phones            3289\n",
       "Storage           3158\n",
       "Art               2996\n",
       "Accessories       2976\n",
       "Chairs            2351\n",
       "Appliances        1729\n",
       "Labels            1396\n",
       "Tables            1241\n",
       "Fasteners          914\n",
       "Envelopes          906\n",
       "Bookcases          868\n",
       "Supplies           647\n",
       "Machines           440\n",
       "Copiers            234"
      ]
     },
     "execution_count": 17,
     "metadata": {},
     "output_type": "execute_result"
    }
   ],
   "source": [
    "df2 = pd.DataFrame(df.groupby(['Sub-Category'])[['Quantity']].sum().sort_values('Quantity',ascending=False))\n",
    "\n",
    "df2"
   ]
  },
  {
   "cell_type": "code",
   "execution_count": 18,
   "id": "0e44d874",
   "metadata": {
    "execution": {
     "iopub.execute_input": "2023-12-24T08:42:59.313671Z",
     "iopub.status.busy": "2023-12-24T08:42:59.312621Z",
     "iopub.status.idle": "2023-12-24T08:42:59.776395Z",
     "shell.execute_reply": "2023-12-24T08:42:59.775127Z"
    },
    "papermill": {
     "duration": 0.479799,
     "end_time": "2023-12-24T08:42:59.778907",
     "exception": false,
     "start_time": "2023-12-24T08:42:59.299108",
     "status": "completed"
    },
    "tags": []
   },
   "outputs": [
    {
     "data": {
      "image/png": "[encoded data removed]",
      "text/plain": [
       "<Figure size 640x480 with 1 Axes>"
      ]
     },
     "metadata": {},
     "output_type": "display_data"
    }
   ],
   "source": [
    "sns.set_theme(style=\"whitegrid\")\n",
    "sns.barplot(data = df2, y = df2.index, x = df2.Quantity, palette = \"rainbow\")\n",
    "plt.title(\"Top Selling Sub-Category\")\n",
    "plt.show()"
   ]
  },
  {
   "cell_type": "markdown",
   "id": "2b9b3234",
   "metadata": {
    "papermill": {
     "duration": 0.012883,
     "end_time": "2023-12-24T08:42:59.805400",
     "exception": false,
     "start_time": "2023-12-24T08:42:59.792517",
     "status": "completed"
    },
    "tags": []
   },
   "source": [
    "**Thus, BINDERS and PAPER are the most seling Sub-Category**"
   ]
  },
  {
   "cell_type": "markdown",
   "id": "16095e0f",
   "metadata": {
    "papermill": {
     "duration": 0.012444,
     "end_time": "2023-12-24T08:42:59.830746",
     "exception": false,
     "start_time": "2023-12-24T08:42:59.818302",
     "status": "completed"
    },
    "tags": []
   },
   "source": [
    "**Q. Which is the most Profitable Customer Segment?**"
   ]
  },
  {
   "cell_type": "code",
   "execution_count": 19,
   "id": "6c89efec",
   "metadata": {
    "execution": {
     "iopub.execute_input": "2023-12-24T08:42:59.859055Z",
     "iopub.status.busy": "2023-12-24T08:42:59.858151Z",
     "iopub.status.idle": "2023-12-24T08:42:59.870921Z",
     "shell.execute_reply": "2023-12-24T08:42:59.870079Z"
    },
    "papermill": {
     "duration": 0.029529,
     "end_time": "2023-12-24T08:42:59.873025",
     "exception": false,
     "start_time": "2023-12-24T08:42:59.843496",
     "status": "completed"
    },
    "tags": []
   },
   "outputs": [
    {
     "data": {
      "text/html": [
       "<div>\n",
       "<style scoped>\n",
       "    .dataframe tbody tr th:only-of-type {\n",
       "        vertical-align: middle;\n",
       "    }\n",
       "\n",
       "    .dataframe tbody tr th {\n",
       "        vertical-align: top;\n",
       "    }\n",
       "\n",
       "    .dataframe thead th {\n",
       "        text-align: right;\n",
       "    }\n",
       "</style>\n",
       "<table border=\"1\" class=\"dataframe\">\n",
       "  <thead>\n",
       "    <tr style=\"text-align: right;\">\n",
       "      <th></th>\n",
       "      <th>Profit</th>\n",
       "    </tr>\n",
       "    <tr>\n",
       "      <th>Segment</th>\n",
       "      <th></th>\n",
       "    </tr>\n",
       "  </thead>\n",
       "  <tbody>\n",
       "    <tr>\n",
       "      <th>Consumer</th>\n",
       "      <td>134007.4413</td>\n",
       "    </tr>\n",
       "    <tr>\n",
       "      <th>Corporate</th>\n",
       "      <td>91954.9798</td>\n",
       "    </tr>\n",
       "    <tr>\n",
       "      <th>Home Office</th>\n",
       "      <td>60279.0015</td>\n",
       "    </tr>\n",
       "  </tbody>\n",
       "</table>\n",
       "</div>"
      ],
      "text/plain": [
       "                  Profit\n",
       "Segment                 \n",
       "Consumer     134007.4413\n",
       "Corporate     91954.9798\n",
       "Home Office   60279.0015"
      ]
     },
     "execution_count": 19,
     "metadata": {},
     "output_type": "execute_result"
    }
   ],
   "source": [
    "df3 = pd.DataFrame(df.groupby(['Segment'])[['Profit']].sum())\n",
    "df3"
   ]
  },
  {
   "cell_type": "code",
   "execution_count": 20,
   "id": "93660163",
   "metadata": {
    "execution": {
     "iopub.execute_input": "2023-12-24T08:42:59.901602Z",
     "iopub.status.busy": "2023-12-24T08:42:59.900913Z",
     "iopub.status.idle": "2023-12-24T08:43:00.166437Z",
     "shell.execute_reply": "2023-12-24T08:43:00.165286Z"
    },
    "papermill": {
     "duration": 0.282661,
     "end_time": "2023-12-24T08:43:00.168715",
     "exception": false,
     "start_time": "2023-12-24T08:42:59.886054",
     "status": "completed"
    },
    "tags": []
   },
   "outputs": [
    {
     "data": {
      "image/png": "[encoded data removed]",
      "text/plain": [
       "<Figure size 640x480 with 1 Axes>"
      ]
     },
     "metadata": {},
     "output_type": "display_data"
    }
   ],
   "source": [
    "sns.set_theme(style=\"whitegrid\")\n",
    "sns.barplot(data = df3, x = df3.index, y = df3.Profit, palette = \"winter\")\n",
    "plt.title(\"Customer Segment Profitability\")\n",
    "plt.show()"
   ]
  },
  {
   "cell_type": "markdown",
   "id": "4ad05b57",
   "metadata": {
    "papermill": {
     "duration": 0.01321,
     "end_time": "2023-12-24T08:43:00.195612",
     "exception": false,
     "start_time": "2023-12-24T08:43:00.182402",
     "status": "completed"
    },
    "tags": []
   },
   "source": [
    "**The most profitable segment is Customer Segment.**"
   ]
  },
  {
   "cell_type": "markdown",
   "id": "61edfe0d",
   "metadata": {
    "papermill": {
     "duration": 0.013692,
     "end_time": "2023-12-24T08:43:00.222882",
     "exception": false,
     "start_time": "2023-12-24T08:43:00.209190",
     "status": "completed"
    },
    "tags": []
   },
   "source": [
    "**Q. Which Ship Mode is Most Preferred?**"
   ]
  },
  {
   "cell_type": "code",
   "execution_count": 21,
   "id": "008de51f",
   "metadata": {
    "execution": {
     "iopub.execute_input": "2023-12-24T08:43:00.253116Z",
     "iopub.status.busy": "2023-12-24T08:43:00.252228Z",
     "iopub.status.idle": "2023-12-24T08:43:00.260711Z",
     "shell.execute_reply": "2023-12-24T08:43:00.259809Z"
    },
    "papermill": {
     "duration": 0.026598,
     "end_time": "2023-12-24T08:43:00.263002",
     "exception": false,
     "start_time": "2023-12-24T08:43:00.236404",
     "status": "completed"
    },
    "tags": []
   },
   "outputs": [],
   "source": [
    "ship_mode_df = pd.DataFrame(df.groupby(['Ship Mode'])[['Quantity']].sum())"
   ]
  },
  {
   "cell_type": "code",
   "execution_count": 22,
   "id": "065e9139",
   "metadata": {
    "execution": {
     "iopub.execute_input": "2023-12-24T08:43:00.292603Z",
     "iopub.status.busy": "2023-12-24T08:43:00.291472Z",
     "iopub.status.idle": "2023-12-24T08:43:00.301648Z",
     "shell.execute_reply": "2023-12-24T08:43:00.300455Z"
    },
    "papermill": {
     "duration": 0.027172,
     "end_time": "2023-12-24T08:43:00.303874",
     "exception": false,
     "start_time": "2023-12-24T08:43:00.276702",
     "status": "completed"
    },
    "tags": []
   },
   "outputs": [
    {
     "data": {
      "text/html": [
       "<div>\n",
       "<style scoped>\n",
       "    .dataframe tbody tr th:only-of-type {\n",
       "        vertical-align: middle;\n",
       "    }\n",
       "\n",
       "    .dataframe tbody tr th {\n",
       "        vertical-align: top;\n",
       "    }\n",
       "\n",
       "    .dataframe thead th {\n",
       "        text-align: right;\n",
       "    }\n",
       "</style>\n",
       "<table border=\"1\" class=\"dataframe\">\n",
       "  <thead>\n",
       "    <tr style=\"text-align: right;\">\n",
       "      <th></th>\n",
       "      <th>Quantity</th>\n",
       "    </tr>\n",
       "    <tr>\n",
       "      <th>Ship Mode</th>\n",
       "      <th></th>\n",
       "    </tr>\n",
       "  </thead>\n",
       "  <tbody>\n",
       "    <tr>\n",
       "      <th>First Class</th>\n",
       "      <td>5690</td>\n",
       "    </tr>\n",
       "    <tr>\n",
       "      <th>Same Day</th>\n",
       "      <td>1956</td>\n",
       "    </tr>\n",
       "    <tr>\n",
       "      <th>Second Class</th>\n",
       "      <td>7418</td>\n",
       "    </tr>\n",
       "    <tr>\n",
       "      <th>Standard Class</th>\n",
       "      <td>22756</td>\n",
       "    </tr>\n",
       "  </tbody>\n",
       "</table>\n",
       "</div>"
      ],
      "text/plain": [
       "                Quantity\n",
       "Ship Mode               \n",
       "First Class         5690\n",
       "Same Day            1956\n",
       "Second Class        7418\n",
       "Standard Class     22756"
      ]
     },
     "execution_count": 22,
     "metadata": {},
     "output_type": "execute_result"
    }
   ],
   "source": [
    "ship_mode_df"
   ]
  },
  {
   "cell_type": "code",
   "execution_count": 23,
   "id": "a693e8a3",
   "metadata": {
    "execution": {
     "iopub.execute_input": "2023-12-24T08:43:00.333553Z",
     "iopub.status.busy": "2023-12-24T08:43:00.332809Z",
     "iopub.status.idle": "2023-12-24T08:43:00.547493Z",
     "shell.execute_reply": "2023-12-24T08:43:00.546233Z"
    },
    "papermill": {
     "duration": 0.232431,
     "end_time": "2023-12-24T08:43:00.550102",
     "exception": false,
     "start_time": "2023-12-24T08:43:00.317671",
     "status": "completed"
    },
    "tags": []
   },
   "outputs": [
    {
     "data": {
      "image/png": "[encoded data removed]",
      "text/plain": [
       "<Figure size 640x480 with 1 Axes>"
      ]
     },
     "metadata": {},
     "output_type": "display_data"
    }
   ],
   "source": [
    "plt.bar(ship_mode_df.index, ship_mode_df['Quantity'])\n",
    "plt.xticks(ship_mode_df.index)\n",
    "plt.xlabel(\"Ship Mode\")\n",
    "plt.ylabel(\"QUantity\")\n",
    "plt.show()"
   ]
  },
  {
   "cell_type": "markdown",
   "id": "2d5c32ac",
   "metadata": {
    "papermill": {
     "duration": 0.014572,
     "end_time": "2023-12-24T08:43:00.579023",
     "exception": false,
     "start_time": "2023-12-24T08:43:00.564451",
     "status": "completed"
    },
    "tags": []
   },
   "source": [
    "**Q. Which Region is the Most Profitable?**"
   ]
  },
  {
   "cell_type": "code",
   "execution_count": 24,
   "id": "c8de3728",
   "metadata": {
    "execution": {
     "iopub.execute_input": "2023-12-24T08:43:00.609570Z",
     "iopub.status.busy": "2023-12-24T08:43:00.609110Z",
     "iopub.status.idle": "2023-12-24T08:43:00.625135Z",
     "shell.execute_reply": "2023-12-24T08:43:00.624025Z"
    },
    "papermill": {
     "duration": 0.034058,
     "end_time": "2023-12-24T08:43:00.627625",
     "exception": false,
     "start_time": "2023-12-24T08:43:00.593567",
     "status": "completed"
    },
    "tags": []
   },
   "outputs": [
    {
     "data": {
      "text/html": [
       "<div>\n",
       "<style scoped>\n",
       "    .dataframe tbody tr th:only-of-type {\n",
       "        vertical-align: middle;\n",
       "    }\n",
       "\n",
       "    .dataframe tbody tr th {\n",
       "        vertical-align: top;\n",
       "    }\n",
       "\n",
       "    .dataframe thead th {\n",
       "        text-align: right;\n",
       "    }\n",
       "</style>\n",
       "<table border=\"1\" class=\"dataframe\">\n",
       "  <thead>\n",
       "    <tr style=\"text-align: right;\">\n",
       "      <th></th>\n",
       "      <th>Region</th>\n",
       "      <th>Profit</th>\n",
       "    </tr>\n",
       "  </thead>\n",
       "  <tbody>\n",
       "    <tr>\n",
       "      <th>0</th>\n",
       "      <td>Central</td>\n",
       "      <td>39655.8752</td>\n",
       "    </tr>\n",
       "    <tr>\n",
       "      <th>1</th>\n",
       "      <td>East</td>\n",
       "      <td>91506.3092</td>\n",
       "    </tr>\n",
       "    <tr>\n",
       "      <th>2</th>\n",
       "      <td>South</td>\n",
       "      <td>46749.4303</td>\n",
       "    </tr>\n",
       "    <tr>\n",
       "      <th>3</th>\n",
       "      <td>West</td>\n",
       "      <td>108329.8079</td>\n",
       "    </tr>\n",
       "  </tbody>\n",
       "</table>\n",
       "</div>"
      ],
      "text/plain": [
       "    Region       Profit\n",
       "0  Central   39655.8752\n",
       "1     East   91506.3092\n",
       "2    South   46749.4303\n",
       "3     West  108329.8079"
      ]
     },
     "execution_count": 24,
     "metadata": {},
     "output_type": "execute_result"
    }
   ],
   "source": [
    "region_df = pd.DataFrame(df.groupby(['Region'])['Profit'].sum().reset_index())\n",
    "region_df"
   ]
  },
  {
   "cell_type": "code",
   "execution_count": 25,
   "id": "237a7b46",
   "metadata": {
    "execution": {
     "iopub.execute_input": "2023-12-24T08:43:00.658613Z",
     "iopub.status.busy": "2023-12-24T08:43:00.657758Z",
     "iopub.status.idle": "2023-12-24T08:43:00.828690Z",
     "shell.execute_reply": "2023-12-24T08:43:00.827589Z"
    },
    "papermill": {
     "duration": 0.189576,
     "end_time": "2023-12-24T08:43:00.831440",
     "exception": false,
     "start_time": "2023-12-24T08:43:00.641864",
     "status": "completed"
    },
    "tags": []
   },
   "outputs": [
    {
     "data": {
      "image/png": "[encoded data removed]",
      "text/plain": [
       "<Figure size 640x480 with 1 Axes>"
      ]
     },
     "metadata": {},
     "output_type": "display_data"
    }
   ],
   "source": [
    "explode = [0, 0, 0, 0.1]\n",
    "plt.pie(region_df.Profit, labels = region_df.Region, startangle = 90, autopct = \"%1.0f%%\", explode = explode, shadow = True)\n",
    "\n",
    "plt.title(\"Most Profitable by Region\")\n",
    "\n",
    "plt.show()"
   ]
  },
  {
   "cell_type": "markdown",
   "id": "0059ce6e",
   "metadata": {
    "papermill": {
     "duration": 0.014814,
     "end_time": "2023-12-24T08:43:00.861102",
     "exception": false,
     "start_time": "2023-12-24T08:43:00.846288",
     "status": "completed"
    },
    "tags": []
   },
   "source": [
    "**The most Profitable Region are East and West**"
   ]
  },
  {
   "cell_type": "markdown",
   "id": "ee7ed27d",
   "metadata": {
    "papermill": {
     "duration": 0.014664,
     "end_time": "2023-12-24T08:43:00.890770",
     "exception": false,
     "start_time": "2023-12-24T08:43:00.876106",
     "status": "completed"
    },
    "tags": []
   },
   "source": [
    "**Q. Which city has the highest Sales?**"
   ]
  },
  {
   "cell_type": "code",
   "execution_count": 26,
   "id": "e5299a62",
   "metadata": {
    "execution": {
     "iopub.execute_input": "2023-12-24T08:43:00.922876Z",
     "iopub.status.busy": "2023-12-24T08:43:00.922083Z",
     "iopub.status.idle": "2023-12-24T08:43:00.936478Z",
     "shell.execute_reply": "2023-12-24T08:43:00.935385Z"
    },
    "papermill": {
     "duration": 0.03294,
     "end_time": "2023-12-24T08:43:00.938751",
     "exception": false,
     "start_time": "2023-12-24T08:43:00.905811",
     "status": "completed"
    },
    "tags": []
   },
   "outputs": [
    {
     "data": {
      "text/html": [
       "<div>\n",
       "<style scoped>\n",
       "    .dataframe tbody tr th:only-of-type {\n",
       "        vertical-align: middle;\n",
       "    }\n",
       "\n",
       "    .dataframe tbody tr th {\n",
       "        vertical-align: top;\n",
       "    }\n",
       "\n",
       "    .dataframe thead th {\n",
       "        text-align: right;\n",
       "    }\n",
       "</style>\n",
       "<table border=\"1\" class=\"dataframe\">\n",
       "  <thead>\n",
       "    <tr style=\"text-align: right;\">\n",
       "      <th></th>\n",
       "      <th>Sales</th>\n",
       "    </tr>\n",
       "    <tr>\n",
       "      <th>City</th>\n",
       "      <th></th>\n",
       "    </tr>\n",
       "  </thead>\n",
       "  <tbody>\n",
       "    <tr>\n",
       "      <th>New York City</th>\n",
       "      <td>256319.041</td>\n",
       "    </tr>\n",
       "    <tr>\n",
       "      <th>Los Angeles</th>\n",
       "      <td>175831.901</td>\n",
       "    </tr>\n",
       "    <tr>\n",
       "      <th>Seattle</th>\n",
       "      <td>119460.282</td>\n",
       "    </tr>\n",
       "    <tr>\n",
       "      <th>San Francisco</th>\n",
       "      <td>112577.172</td>\n",
       "    </tr>\n",
       "    <tr>\n",
       "      <th>Philadelphia</th>\n",
       "      <td>109061.461</td>\n",
       "    </tr>\n",
       "  </tbody>\n",
       "</table>\n",
       "</div>"
      ],
      "text/plain": [
       "                    Sales\n",
       "City                     \n",
       "New York City  256319.041\n",
       "Los Angeles    175831.901\n",
       "Seattle        119460.282\n",
       "San Francisco  112577.172\n",
       "Philadelphia   109061.461"
      ]
     },
     "execution_count": 26,
     "metadata": {},
     "output_type": "execute_result"
    }
   ],
   "source": [
    "city_sales = pd.DataFrame(df.groupby('City')['Sales'].sum())\n",
    "city_sales =city_sales.sort_values( by=\"Sales\",ascending=False)\n",
    "city_sales.head()"
   ]
  },
  {
   "cell_type": "code",
   "execution_count": 27,
   "id": "7ba800f0",
   "metadata": {
    "execution": {
     "iopub.execute_input": "2023-12-24T08:43:00.970920Z",
     "iopub.status.busy": "2023-12-24T08:43:00.970220Z",
     "iopub.status.idle": "2023-12-24T08:43:01.366669Z",
     "shell.execute_reply": "2023-12-24T08:43:01.365491Z"
    },
    "papermill": {
     "duration": 0.415475,
     "end_time": "2023-12-24T08:43:01.369157",
     "exception": false,
     "start_time": "2023-12-24T08:43:00.953682",
     "status": "completed"
    },
    "tags": []
   },
   "outputs": [
    {
     "data": {
      "image/png": "[encoded data removed]",
      "text/plain": [
       "<Figure size 640x480 with 1 Axes>"
      ]
     },
     "metadata": {},
     "output_type": "display_data"
    }
   ],
   "source": [
    "plt.bar(city_sales.index[0:20], city_sales['Sales'][0:20])\n",
    "plt.xticks(city_sales.index[0:20],rotation = 'vertical')\n",
    "plt.xlabel(\"City\" )\n",
    "plt.ylabel(\"Sales\")\n",
    "plt.show()"
   ]
  },
  {
   "cell_type": "markdown",
   "id": "de8efa89",
   "metadata": {
    "papermill": {
     "duration": 0.015592,
     "end_time": "2023-12-24T08:43:01.400610",
     "exception": false,
     "start_time": "2023-12-24T08:43:01.385018",
     "status": "completed"
    },
    "tags": []
   },
   "source": [
    "**The City having highest sales are New York , Los Angeles.**"
   ]
  }
 ],
 "metadata": {
  "kaggle": {
   "accelerator": "none",
   "dataSources": [
    {
     "datasetId": 782034,
     "sourceId": 1344824,
     "sourceType": "datasetVersion"
    }
   ],
   "dockerImageVersionId": 30558,
   "isGpuEnabled": false,
   "isInternetEnabled": false,
   "language": "python",
   "sourceType": "notebook"
  },
  "kernelspec": {
   "display_name": "Python 3",
   "language": "python",
   "name": "python3"
  },
  "language_info": {
   "codemirror_mode": {
    "name": "ipython",
    "version": 3
   },
   "file_extension": ".py",
   "mimetype": "text/x-python",
   "name": "python",
   "nbconvert_exporter": "python",
   "pygments_lexer": "ipython3",
   "version": "3.10.12"
  },
  "papermill": {
   "default_parameters": {},
   "duration": 10.924239,
   "end_time": "2023-12-24T08:43:02.138973",
   "environment_variables": {},
   "exception": null,
   "input_path": "__notebook__.ipynb",
   "output_path": "__notebook__.ipynb",
   "parameters": {},
   "start_time": "2023-12-24T08:42:51.214734",
   "version": "2.4.0"
  }
 },
 "nbformat": 4,
 "nbformat_minor": 5
}
